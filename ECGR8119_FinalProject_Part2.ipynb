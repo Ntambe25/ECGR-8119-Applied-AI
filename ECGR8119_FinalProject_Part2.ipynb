{
  "nbformat": 4,
  "nbformat_minor": 0,
  "metadata": {
    "colab": {
      "provenance": [],
      "authorship_tag": "ABX9TyMfXr8XUnpy2jppdPBjusIK",
      "include_colab_link": true
    },
    "kernelspec": {
      "name": "python3",
      "display_name": "Python 3"
    },
    "language_info": {
      "name": "python"
    }
  },
  "cells": [
    {
      "cell_type": "markdown",
      "metadata": {
        "id": "view-in-github",
        "colab_type": "text"
      },
      "source": [
        "<a href=\"https://colab.research.google.com/github/Ntambe25/ECGR-8119-Applied-AI/blob/main/ECGR8119_FinalProject_Part2.ipynb\" target=\"_parent\"><img src=\"https://colab.research.google.com/assets/colab-badge.svg\" alt=\"Open In Colab\"/></a>"
      ]
    },
    {
      "cell_type": "markdown",
      "source": [
        "## ECGR 8119 - Applied AI Final Project\n"
      ],
      "metadata": {
        "id": "AwB-nAAbJ_OW"
      }
    },
    {
      "cell_type": "code",
      "source": [
        "# Mount Google Drive\n",
        "from google.colab import drive\n",
        "drive.mount('/content/drive')"
      ],
      "metadata": {
        "colab": {
          "base_uri": "https://localhost:8080/"
        },
        "id": "gDeyfP5D6qYM",
        "outputId": "b8e73336-62a5-4a0d-87ee-d7c6664c59ec"
      },
      "execution_count": null,
      "outputs": [
        {
          "output_type": "stream",
          "name": "stdout",
          "text": [
            "Mounted at /content/drive\n"
          ]
        }
      ]
    },
    {
      "cell_type": "code",
      "source": [
        "# Import necessary libraries\n",
        "import pandas as pd\n",
        "import numpy as np\n",
        "import ast\n",
        "import seaborn as sns\n",
        "import matplotlib.pyplot as plt\n",
        "import joblib\n",
        "\n",
        "from scipy.optimize import minimize\n",
        "from sklearn.svm import SVR\n",
        "from sklearn.metrics import mean_absolute_error, mean_squared_error, r2_score\n",
        "from sklearn.preprocessing import MinMaxScaler, OneHotEncoder\n",
        "from sklearn.model_selection import train_test_split\n",
        "from sklearn.preprocessing import StandardScaler\n",
        "from sklearn.ensemble import RandomForestRegressor\n",
        "from sklearn.metrics import mean_absolute_error, mean_squared_error, r2_score\n",
        "from sklearn.preprocessing import LabelEncoder"
      ],
      "metadata": {
        "id": "_TgDdtAf7JIG"
      },
      "execution_count": null,
      "outputs": []
    },
    {
      "cell_type": "code",
      "source": [
        "# Load the data from CSV\n",
        "data_path = '/content/drive/MyDrive/ECGR8119_FinalProject/preprocessed_data.csv'\n",
        "\n",
        "# Load dataset\n",
        "loaded_data = pd.read_csv(data_path)"
      ],
      "metadata": {
        "id": "z8YZYNYwVSR4"
      },
      "execution_count": null,
      "outputs": []
    },
    {
      "cell_type": "code",
      "source": [
        "loaded_data.info()"
      ],
      "metadata": {
        "colab": {
          "base_uri": "https://localhost:8080/"
        },
        "id": "4Cy4bB9udK8Z",
        "outputId": "acfeefb5-315b-4d78-f27b-6e5eb5a29e9a"
      },
      "execution_count": null,
      "outputs": [
        {
          "output_type": "stream",
          "name": "stdout",
          "text": [
            "<class 'pandas.core.frame.DataFrame'>\n",
            "RangeIndex: 405894 entries, 0 to 405893\n",
            "Data columns (total 36 columns):\n",
            " #   Column                           Non-Null Count   Dtype  \n",
            "---  ------                           --------------   -----  \n",
            " 0   instance_events_type             405894 non-null  int64  \n",
            " 1   scheduling_class                 405894 non-null  int64  \n",
            " 2   collection_type                  405894 non-null  int64  \n",
            " 3   priority                         405894 non-null  int64  \n",
            " 4   assigned_memory                  405894 non-null  float64\n",
            " 5   page_cache_memory                405894 non-null  float64\n",
            " 6   cycles_per_instruction           405894 non-null  float64\n",
            " 7   memory_accesses_per_instruction  405894 non-null  float64\n",
            " 8   sample_rate                      405894 non-null  float64\n",
            " 9   cluster                          405894 non-null  int64  \n",
            " 10  event                            405894 non-null  int64  \n",
            " 11  failed                           405894 non-null  int64  \n",
            " 12  total_time                       405894 non-null  int64  \n",
            " 13  resource_request_cpus            405894 non-null  float64\n",
            " 14  resource_request_memory          405894 non-null  float64\n",
            " 15  average_usage_cpus               405894 non-null  float64\n",
            " 16  average_usage_memory             405894 non-null  float64\n",
            " 17  maximum_usage_cpus               405894 non-null  float64\n",
            " 18  maximum_usage_memory             405894 non-null  float64\n",
            " 19  cpu_mean                         405894 non-null  float64\n",
            " 20  cpu_std                          405894 non-null  float64\n",
            " 21  cpu_min                          405894 non-null  float64\n",
            " 22  cpu_max                          405894 non-null  float64\n",
            " 23  cpu_range                        405894 non-null  float64\n",
            " 24  cpu_median                       405894 non-null  float64\n",
            " 25  gap_p90_p50                      405894 non-null  float64\n",
            " 26  gap_p50_p10                      405894 non-null  float64\n",
            " 27  tail_cpu_91ile                   405894 non-null  float64\n",
            " 28  tail_cpu_92ile                   405894 non-null  float64\n",
            " 29  tail_cpu_93ile                   405894 non-null  float64\n",
            " 30  tail_cpu_94ile                   405894 non-null  float64\n",
            " 31  tail_cpu_95ile                   405894 non-null  float64\n",
            " 32  tail_cpu_96ile                   405894 non-null  float64\n",
            " 33  tail_cpu_97ile                   405894 non-null  float64\n",
            " 34  tail_cpu_98ile                   405894 non-null  float64\n",
            " 35  tail_cpu_99ile                   405894 non-null  float64\n",
            "dtypes: float64(28), int64(8)\n",
            "memory usage: 111.5 MB\n"
          ]
        }
      ]
    },
    {
      "cell_type": "code",
      "source": [
        "# Function to retrain Random Forest with emphasis on resource request columns\n",
        "def retrain_random_forest(data, resource_columns=['resource_request_memory', 'resource_request_cpus']):\n",
        "    # Extract features (X) and target variable (y)\n",
        "    X = data.drop(columns=['total_time'])  # Drop the target column 'total_time'\n",
        "    y = data['total_time']  # Target variable\n",
        "\n",
        "    # Scaling the resource request columns to emphasize them\n",
        "    scaler = StandardScaler()\n",
        "    X_scaled = X.copy()\n",
        "\n",
        "    # Scale resource request columns to a higher range\n",
        "    X_scaled[resource_columns] = scaler.fit_transform(X[resource_columns]) * 1000  # Amplify the effect of these columns\n",
        "\n",
        "    # Train-test split\n",
        "    X_train, X_test, y_train, y_test = train_test_split(X_scaled, y, test_size=0.2, random_state=42)\n",
        "\n",
        "    # Train the Random Forest model\n",
        "    model = RandomForestRegressor(n_estimators=100, random_state=42)\n",
        "    model.fit(X_train, y_train)\n",
        "\n",
        "    # Evaluate the model\n",
        "    train_score = model.score(X_train, y_train)\n",
        "    test_score = model.score(X_test, y_test)\n",
        "\n",
        "    print(f\"Training R^2 score: {train_score:.4f}\")\n",
        "    print(f\"Testing R^2 score: {test_score:.4f}\")\n",
        "\n",
        "    return model, scaler\n",
        "\n",
        "# Example usage\n",
        "model, scaler = retrain_random_forest(loaded_data)  # Replace 'loaded_data' with your dataset\n",
        "\n",
        "# Save the retrained model for later use\n",
        "import joblib\n",
        "joblib.dump(model, '/content/drive/MyDrive/ECGR8119_FinalProject/retrained_random_forest_model.pkl')\n"
      ],
      "metadata": {
        "colab": {
          "base_uri": "https://localhost:8080/"
        },
        "id": "lTPhJDFgu0LO",
        "outputId": "00716ce4-2876-469e-aec9-863d98149c4a"
      },
      "execution_count": null,
      "outputs": [
        {
          "output_type": "stream",
          "name": "stdout",
          "text": [
            "Training R^2 score: 0.9999\n",
            "Testing R^2 score: 0.9990\n"
          ]
        },
        {
          "output_type": "execute_result",
          "data": {
            "text/plain": [
              "['/content/drive/MyDrive/ECGR8119_FinalProject/retrained_random_forest_model.pkl']"
            ]
          },
          "metadata": {},
          "execution_count": 30
        }
      ]
    },
    {
      "cell_type": "code",
      "source": [
        "from scipy.optimize import minimize\n",
        "import numpy as np\n",
        "import joblib\n",
        "import pandas as pd\n",
        "\n",
        "# Function to load the trained model\n",
        "def load_trained_model(model_path):\n",
        "    return joblib.load(model_path)\n",
        "\n",
        "# Optimization objective function\n",
        "def optimization_function(params, model, X_fixed, threshold):\n",
        "    # Update the memory and CPU allocations (optimized values)\n",
        "    X_fixed.loc[:, 'maximum_usage_memory'] = params[0]\n",
        "    X_fixed.loc[:, 'maximum_usage_cpus'] = params[1]\n",
        "\n",
        "    # Predict total_time\n",
        "    predicted_time = model.predict(X_fixed)\n",
        "\n",
        "    # Define penalty for exceeding the threshold\n",
        "    penalty = 10 * (predicted_time[0] - threshold) ** 2 if predicted_time[0] > threshold else 0\n",
        "\n",
        "    # Minimize resource usage + penalty\n",
        "    return params[0] + params[1] + penalty\n",
        "\n",
        "# Main function to optimize resources\n",
        "def optimize_resources(data, model_path, task_index, threshold=100000):\n",
        "    # Load the pre-trained Random Forest model\n",
        "    model = load_trained_model(model_path)\n",
        "\n",
        "    # Prepare the input data (ensure features match the trained model)\n",
        "    X = data.drop(columns=['total_time'])  # Drop the target column\n",
        "    trained_feature_columns = model.feature_names_in_\n",
        "    X = X[trained_feature_columns]\n",
        "\n",
        "    # Select the specific task (row) for optimization\n",
        "    task = X.iloc[task_index:task_index + 1]\n",
        "\n",
        "    # Use resource_request_memory and resource_request_cpus as the base metrics for optimization\n",
        "    requested_memory = task['resource_request_memory'].values[0]\n",
        "    requested_cpus = task['resource_request_cpus'].values[0]\n",
        "\n",
        "    # Predict initial total_time based on resource requests\n",
        "    initial_predicted_time = model.predict(task)[0]\n",
        "\n",
        "    # Initial guess for optimization (use resource request values)\n",
        "    initial_guess = [requested_memory, requested_cpus]\n",
        "\n",
        "    # Define bounds for memory and CPUs\n",
        "    bounds = [\n",
        "        (0.000001, 0.3),  # Memory bounds\n",
        "        (0.000001, 0.6)   # CPU bounds\n",
        "    ]\n",
        "\n",
        "    # Perform optimization\n",
        "    result = minimize(\n",
        "        optimization_function,\n",
        "        initial_guess,\n",
        "        args=(model, task.copy(), threshold),\n",
        "        bounds=bounds,\n",
        "        method='L-BFGS-B'\n",
        "    )\n",
        "\n",
        "    optimized_memory = task['maximum_usage_memory'].values[0]\n",
        "    optimized_cpus = task['maximum_usage_cpus'].values[0]\n",
        "\n",
        "    # Predict total_time after optimization with the maximum usage values\n",
        "    optimized_predicted_time = model.predict(task)[0]\n",
        "\n",
        "    # Output results\n",
        "    print(f\"Original Resource Requests and Predicted Time:\")\n",
        "    print(f\"Memory: {requested_memory:.6f} GB\")\n",
        "    print(f\"CPUs: {requested_cpus:.6f}\")\n",
        "\n",
        "    print(f\"Optimized Resource Allocation and Predicted Time:\")\n",
        "    print(f\"Memory: {optimized_memory:.6f} GB\")\n",
        "    print(f\"CPUs: {optimized_cpus:.6f}\")\n",
        "    print(f\"Optimized Predicted Time: {optimized_predicted_time:.2f} micro-seconds\\n\")\n",
        "\n",
        "# Example usage\n",
        "# Assuming 'loaded_data' is your dataset loaded as a DataFrame\n",
        "# and model_path is the path to your saved Random Forest model\n",
        "model_path = '/content/drive/MyDrive/ECGR8119_FinalProject/retrained_random_forest_model.pkl'\n",
        "task_index = 11  # Change this to select a different task row\n",
        "optimize_resources(loaded_data, model_path, task_index, threshold=100000)"
      ],
      "metadata": {
        "colab": {
          "base_uri": "https://localhost:8080/"
        },
        "id": "l14bcB0-aD4-",
        "outputId": "c8170814-343d-4e9c-e390-a15568256232"
      },
      "execution_count": null,
      "outputs": [
        {
          "output_type": "stream",
          "name": "stdout",
          "text": [
            "Original Resource Requests and Predicted Time:\n",
            "Memory: 0.010422 GB\n",
            "CPUs: 0.041199\n",
            "Optimized Resource Allocation and Predicted Time:\n",
            "Memory: 0.000070 GB\n",
            "CPUs: 0.013275\n",
            "Optimized Predicted Time: 3000000.00 micro-seconds\n",
            "\n"
          ]
        }
      ]
    },
    {
      "cell_type": "code",
      "source": [
        "import matplotlib.pyplot as plt\n",
        "import numpy as np\n",
        "\n",
        "# Data for the tasks\n",
        "tasks = ['Task 0', 'Task 1', 'Task 2', 'Task 3', 'Task 4']\n",
        "\n",
        "# Original and Optimized Resource Requests\n",
        "memory_original = [0.014435, 0.000232, 0.006613, 0.006767, 0.010422]  # in GB\n",
        "cpu_original = [0.020660, 0.002449, 0.008102, 0.097168, 0.041199]\n",
        "\n",
        "memory_optimized = [0.005936, 0.000076, 0.00479, 0.004242, 0.0070]  # in GB\n",
        "cpu_optimized = [0.011902, 0.000415, 0.000818, 0.056611, 0.013275]\n",
        "\n",
        "# Create subplots for Memory and CPU comparisons\n",
        "fig, axs = plt.subplots(2, 1, figsize=(10, 10))\n",
        "\n",
        "# Plot Memory comparison\n",
        "x = np.arange(len(tasks))\n",
        "width = 0.35  # width of the bars\n",
        "\n",
        "axs[0].bar(x - width/2, memory_original, width, label='Original Memory', color='skyblue')\n",
        "axs[0].bar(x + width/2, memory_optimized, width, label='Optimized Memory', color='lightgreen')\n",
        "\n",
        "axs[0].set_title('Memory Usage (GB): Original vs Optimized')\n",
        "axs[0].set_xlabel('Tasks')\n",
        "axs[0].set_ylabel('Memory (GB)')\n",
        "axs[0].set_xticks(x)\n",
        "axs[0].set_xticklabels(tasks)\n",
        "axs[0].legend()\n",
        "\n",
        "# Plot CPU comparison\n",
        "axs[1].bar(x - width/2, cpu_original, width, label='Original CPU', color='salmon')\n",
        "axs[1].bar(x + width/2, cpu_optimized, width, label='Optimized CPU', color='gold')\n",
        "\n",
        "axs[1].set_title('CPU Usage: Original vs Optimized')\n",
        "axs[1].set_xlabel('Tasks')\n",
        "axs[1].set_ylabel('CPU')\n",
        "axs[1].set_xticks(x)\n",
        "axs[1].set_xticklabels(tasks)\n",
        "axs[1].legend()\n",
        "\n",
        "# Adjust layout\n",
        "plt.tight_layout()\n",
        "\n",
        "# Display the plots\n",
        "plt.show()\n"
      ],
      "metadata": {
        "colab": {
          "base_uri": "https://localhost:8080/",
          "height": 1000
        },
        "id": "VnGOgbcS7BTB",
        "outputId": "0d17de84-3a0d-4098-c702-17438cd684d7"
      },
      "execution_count": null,
      "outputs": [
        {
          "output_type": "display_data",
          "data": {
            "text/plain": [
              "<Figure size 1000x1000 with 2 Axes>"
            ],
            "image/png": "[encoded data removed]"
          },
          "metadata": {}
        }
      ]
    }
  ]
}